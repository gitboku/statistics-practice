{
  "nbformat": 4,
  "nbformat_minor": 0,
  "metadata": {
    "colab": {
      "name": "重回帰分析",
      "provenance": [],
      "collapsed_sections": [],
      "toc_visible": true,
      "authorship_tag": "ABX9TyM26ZTlw+aLoXZcgm8HjEwG",
      "include_colab_link": true
    },
    "kernelspec": {
      "name": "python3",
      "display_name": "Python 3"
    }
  },
  "cells": [
    {
      "cell_type": "markdown",
      "metadata": {
        "id": "view-in-github",
        "colab_type": "text"
      },
      "source": [
        "<a href=\"https://colab.research.google.com/github/gitboku/statistics-practice/blob/master/%E9%87%8D%E5%9B%9E%E5%B8%B0%E5%88%86%E6%9E%90.ipynb\" target=\"_parent\"><img src=\"https://colab.research.google.com/assets/colab-badge.svg\" alt=\"Open In Colab\"/></a>"
      ]
    },
    {
      "cell_type": "markdown",
      "metadata": {
        "id": "ftXsOgoX0yG6",
        "colab_type": "text"
      },
      "source": [
        "# 重回帰分析とは何か"
      ]
    },
    {
      "cell_type": "markdown",
      "metadata": {
        "id": "5ai2bKEZpM4U",
        "colab_type": "text"
      },
      "source": [
        "参考：　https://to-kei.net/basic-study/regression/multiple-regression-analysis/"
      ]
    },
    {
      "cell_type": "markdown",
      "metadata": {
        "id": "q6J_01rLpVi1",
        "colab_type": "text"
      },
      "source": [
        "成人の身長を例にする。\n",
        "\n",
        "身長を目的変数を$y$、体重と年齢を説明変数$x_1, x_2$とする。  \n",
        "すると、以下のようにあらわせる。\n",
        "\n",
        "$$\n",
        "y = a_1x_1 + a_2x_2 + b\n",
        "$$\n",
        "\n",
        "$a$は偏回帰係数と呼ばれ、$a_i$は最小二乗法によって求められる。"
      ]
    },
    {
      "cell_type": "markdown",
      "metadata": {
        "id": "a_v64ueGqsN_",
        "colab_type": "text"
      },
      "source": [
        "## 標準化偏回帰係数"
      ]
    },
    {
      "cell_type": "markdown",
      "metadata": {
        "id": "_PsWe15qqwwf",
        "colab_type": "text"
      },
      "source": [
        "標準化偏回帰係数とは各変数の重要度を表す指標であり、大小を比較することでどの変数が重要なのかを測る。  \n",
        "例えば、体重を㎏でデータを取得した時と、ｇで取得した時では偏回帰係数に1000倍の差が出てしまうが、標準化偏回帰係数なら単位に関わらず各説明変数の影響の大きさを測ることができる。\n",
        "\n",
        "目的変数yの標準偏差を$SD(y)$、説明変数xの標準偏差を$SD(x)$とすると、標準化偏回帰係数Aは以下のようにあらわす。\n",
        "\n",
        "$$\n",
        "A_i = a_i\\frac {SD(x_i)} {SD(y)}\n",
        "$$"
      ]
    },
    {
      "cell_type": "markdown",
      "metadata": {
        "id": "UAeFBBrTyN78",
        "colab_type": "text"
      },
      "source": [
        "## ダミー変数"
      ]
    },
    {
      "cell_type": "markdown",
      "metadata": {
        "id": "1oQ21icJyQpj",
        "colab_type": "text"
      },
      "source": [
        "「性別」のような数字で表せないカテゴリー変数を{0, 1}に変換したものをダミー変数という。  \n",
        "2種類の値を持つデータ（例えば男と女）では0または1で表す。  \n",
        "3変数以上の場合は変数n個に対してn-1個の列を用いることで表せる。  \n",
        "例えば、｛白人、黒人、アジア人｝の3つの値を取るときは、「白人」「黒人」の二つの列を用意し、「両方0ならアジア人」というようにして表す。"
      ]
    },
    {
      "cell_type": "markdown",
      "metadata": {
        "id": "rLS3NnQT0j4G",
        "colab_type": "text"
      },
      "source": [
        "## 説明変数を選ぶ注意点"
      ]
    },
    {
      "cell_type": "markdown",
      "metadata": {
        "id": "SPFNZ_ll0nSW",
        "colab_type": "text"
      },
      "source": [
        "\n",
        "\n",
        "*   説明変数同士の相関係数は低く抑える。\n",
        "*   現在のデータに対する説明力を考えるときは決定係数を、新たなデータに対する予測力を考えるときはAIC（赤池情報量基準）を用いるといい。\n",
        "\n"
      ]
    },
    {
      "cell_type": "markdown",
      "metadata": {
        "id": "lbB5HQm911tO",
        "colab_type": "text"
      },
      "source": [
        "## 決定係数"
      ]
    },
    {
      "cell_type": "markdown",
      "metadata": {
        "id": "ucwM4_7R2NSu",
        "colab_type": "text"
      },
      "source": [
        "パラメータ推定に使用したデータに対して推定された回帰式の当てはまりの良さを表す。  \n",
        "「寄与率」ともいう。  \n",
        "一般には$R^2$で表され、回帰変動$S_R$を全体変動$S_T$で割った値である。  \n",
        "0から1の値を取り、1に近いほどデータに当てはまっている。\n",
        "\n",
        "$$\n",
        "\\begin{eqnarray}\n",
        "R^2 &=& \\frac{S_R}{S_T}\\\\\n",
        "S_R &=& \\displaystyle \\sum_{i = 1}^n {\\left(\\hat{y}_i - \\overline{y} \\right)}^2\\\\\n",
        "S_T &=& \\displaystyle \\sum_{i = 1}^n {\\left(y_i - \\overline{y} \\right)}^2 \n",
        "\\end{eqnarray}\n",
        "$$\n",
        "\n",
        "$\\hat{y}_i$は回帰式から推定されたデータで、$y_i$は実際のデータ。"
      ]
    },
    {
      "cell_type": "markdown",
      "metadata": {
        "id": "XSafDFXf4KJd",
        "colab_type": "text"
      },
      "source": [
        "重回帰分析では変数が増えるほど無条件で1に近づいてしまうので、代わりに「自由度修正済み決定係数」を使用する。"
      ]
    },
    {
      "cell_type": "markdown",
      "metadata": {
        "id": "-5MEyY2fBdOU",
        "colab_type": "text"
      },
      "source": [
        "## 自由度調整済み決定係数"
      ]
    },
    {
      "cell_type": "markdown",
      "metadata": {
        "id": "h9_V8dASBjrp",
        "colab_type": "text"
      },
      "source": [
        "$R_f^2$で表す。  \n",
        "データ数をN、説明変数の数をpとすると、以下のようになる。\n",
        "\n",
        "$$\n",
        "R_f^2 = 1 - \\frac{\\frac {S_R} {N - p - 1}}{\\frac {S_T} {N - 1}}\n",
        "$$"
      ]
    },
    {
      "cell_type": "markdown",
      "metadata": {
        "id": "68hTsWzVCI0n",
        "colab_type": "text"
      },
      "source": [
        "このほかにAIC（赤池情報量基準）を用いてもよい。"
      ]
    },
    {
      "cell_type": "markdown",
      "metadata": {
        "id": "rzsMVV7F02hv",
        "colab_type": "text"
      },
      "source": [
        "# どのようにしてパラメータを求めるのか"
      ]
    },
    {
      "cell_type": "markdown",
      "metadata": {
        "id": "VyqyrTyRnl_g",
        "colab_type": "text"
      },
      "source": [
        "参考：　https://tutorials.chainer.org/ja/07_Regression_Analysis.html"
      ]
    },
    {
      "cell_type": "markdown",
      "metadata": {
        "id": "WXTXvliFnogx",
        "colab_type": "text"
      },
      "source": [
        "### Step1 モデル決定"
      ]
    },
    {
      "cell_type": "markdown",
      "metadata": {
        "id": "cLkHCAlhoMiC",
        "colab_type": "text"
      },
      "source": [
        "重回帰分析のモデルは基本的に以下のようになる。\n",
        "\n",
        "$$\n",
        "\\begin{eqnarray}\n",
        "y &=& w_1x_1 + w_2x_2 + ... + w_mx_m + b\\\\\n",
        "&=& \\displaystyle \\sum_{m = 1}^M w_mx_m + b\n",
        "\\end{eqnarray}\n",
        "$$\n",
        "\n",
        "バイアスbについて考える。\n",
        "\n",
        "重回帰分析ではMこのパラメータと1つのバイアスが存在するので、パラメータ数はM+1個。これらのパラメータをうまく定式化するため、$x_0 = 1, w_0 = b$とすることで、以下のように書き換えることができる。\n",
        "\n",
        "$$\n",
        "\\begin{eqnarray}\n",
        "y &=& \\displaystyle \\sum_{m = 0}^M w_mx_m\n",
        "\\end{eqnarray}\n",
        "$$\n",
        "\n",
        "これでバイアスbまで含めて行列計算で簡単に扱える。\n",
        "\n",
        "この式をベクトルの内積で表記しなおす。\n",
        "\n",
        "$$\n",
        "\\begin{eqnarray}\n",
        "y &=& w_0x_0 + w_1x_1 + w_2x_2 + ... + w_mx_m\\\\\n",
        "&=& [w_0 \\  w_1\\ \\cdots\\ w_M]\\left[\n",
        "    \\begin{array}{c}\n",
        "      x_0 \\\\\n",
        "      x_1 \\\\\n",
        "      \\vdots \\\\\n",
        "      x_M\n",
        "    \\end{array}\n",
        "  \\right]\\\\\n",
        "&=& {}^twx\n",
        "\\end{eqnarray}\n",
        "$$"
      ]
    },
    {
      "cell_type": "markdown",
      "metadata": {
        "id": "8XVpuQv1s_sb",
        "colab_type": "text"
      },
      "source": [
        "### Step2 目的関数を決める"
      ]
    },
    {
      "cell_type": "markdown",
      "metadata": {
        "id": "ccswGbIEtDxs",
        "colab_type": "text"
      },
      "source": [
        "単回帰分析と同様に「（実際のデータ - 推定値）の合計」を目的関数とする\n",
        "\n",
        "$$\n",
        "\\begin{eqnarray}\n",
        "L &=& (t_1 - y_1)^2 + \\cdots + (t_N - y_N)^2\\\\\n",
        "&=& [y_1-y_1\\ \\cdots\\ t_N-y_N]\\left[\n",
        "    \\begin{array}{c}\n",
        "      t_1-y_1 \\\\\n",
        "      \\vdots \\\\\n",
        "      t_N-y_N\n",
        "    \\end{array}\n",
        "  \\right]\\\\\n",
        "&=& {}^t(t-y)(t-y)\n",
        "\\end{eqnarray}\n",
        "$$"
      ]
    },
    {
      "cell_type": "markdown",
      "metadata": {
        "id": "s9pLgggnW1Zx",
        "colab_type": "text"
      },
      "source": [
        "# 実装"
      ]
    },
    {
      "cell_type": "code",
      "metadata": {
        "id": "h4r0uiLPW1Jd",
        "colab_type": "code",
        "colab": {}
      },
      "source": [
        "import numpy as np\n",
        "import pandas as pd"
      ],
      "execution_count": 0,
      "outputs": []
    },
    {
      "cell_type": "markdown",
      "metadata": {
        "id": "k3Xp_viMW_kS",
        "colab_type": "text"
      },
      "source": [
        "## データ用意"
      ]
    },
    {
      "cell_type": "code",
      "metadata": {
        "id": "ERQjVCWjW-es",
        "colab_type": "code",
        "colab": {}
      },
      "source": [
        "# 元からあったsample_dataを使用する\n",
        "csv = pd.read_csv('/content/sample_data/california_housing_train.csv')"
      ],
      "execution_count": 0,
      "outputs": []
    },
    {
      "cell_type": "code",
      "metadata": {
        "id": "de2TvR0KXEja",
        "colab_type": "code",
        "outputId": "0d862d55-56a9-4aaf-e598-daf20a2572d6",
        "colab": {
          "base_uri": "https://localhost:8080/",
          "height": 90
        }
      },
      "source": [
        "csv.columns"
      ],
      "execution_count": 22,
      "outputs": [
        {
          "output_type": "execute_result",
          "data": {
            "text/plain": [
              "Index(['longitude', 'latitude', 'housing_median_age', 'total_rooms',\n",
              "       'total_bedrooms', 'population', 'households', 'median_income',\n",
              "       'median_house_value'],\n",
              "      dtype='object')"
            ]
          },
          "metadata": {
            "tags": []
          },
          "execution_count": 22
        }
      ]
    },
    {
      "cell_type": "code",
      "metadata": {
        "id": "Q0OdSIoNX8-n",
        "colab_type": "code",
        "colab": {}
      },
      "source": [
        "households = csv['households']\n",
        "population = csv['population']\n",
        "total_rooms = csv['total_rooms']"
      ],
      "execution_count": 0,
      "outputs": []
    },
    {
      "cell_type": "code",
      "metadata": {
        "id": "eU_i0dFFppxJ",
        "colab_type": "code",
        "outputId": "5a6b5a0a-b43d-4895-830f-bb553e7b7c17",
        "colab": {
          "base_uri": "https://localhost:8080/",
          "height": 319
        }
      },
      "source": [
        "from matplotlib import pyplot\n",
        "from mpl_toolkits.mplot3d.axes3d import Axes3D\n",
        "\n",
        "# TODO: 3Dの散布図がマウスドラッグできないのでどうにかする\n",
        "\n",
        "fig = pyplot.figure()\n",
        "ax = Axes3D(fig)\n",
        "ax.scatter(households, total_rooms, population)\n",
        "pyplot.show()"
      ],
      "execution_count": 26,
      "outputs": [
        {
          "output_type": "display_data",
          "data": {
            "image/png": "[encoded data removed]",
            "text/plain": [
              "<Figure size 432x288 with 1 Axes>"
            ]
          },
          "metadata": {
            "tags": [],
            "needs_background": "light"
          }
        }
      ]
    },
    {
      "cell_type": "markdown",
      "metadata": {
        "id": "Hi84Gy1r7OAw",
        "colab_type": "text"
      },
      "source": [
        "目的変数をpopulation、説明変数をtotal_roomsとhouseholdsとする。  \n",
        "この変数選択が分析として正しいのかどうかは不問とする。"
      ]
    },
    {
      "cell_type": "code",
      "metadata": {
        "id": "GqK18zU37b5O",
        "colab_type": "code",
        "colab": {
          "base_uri": "https://localhost:8080/",
          "height": 53
        },
        "outputId": "5c558e8e-a61e-45b9-e99f-19cff534e918"
      },
      "source": [
        "# パラメータを推定する\n",
        "def test_func ():\n",
        "  return 1, 2\n",
        "\n",
        "a, b = test_func()\n",
        "print('a =', a)\n",
        "print('b =', b)"
      ],
      "execution_count": 27,
      "outputs": [
        {
          "output_type": "stream",
          "text": [
            "a = 1\n",
            "b = 2\n"
          ],
          "name": "stdout"
        }
      ]
    },
    {
      "cell_type": "code",
      "metadata": {
        "id": "w4BGjbTh8oui",
        "colab_type": "code",
        "colab": {}
      },
      "source": [
        ""
      ],
      "execution_count": 0,
      "outputs": []
    }
  ]
}