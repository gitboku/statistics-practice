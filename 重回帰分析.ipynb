{
  "nbformat": 4,
  "nbformat_minor": 0,
  "metadata": {
    "colab": {
      "name": "重回帰分析",
      "provenance": [],
      "collapsed_sections": [],
      "toc_visible": true,
      "authorship_tag": "ABX9TyMRcKH6ChDzl3++s/ieai0q",
      "include_colab_link": true
    },
    "kernelspec": {
      "name": "python3",
      "display_name": "Python 3"
    }
  },
  "cells": [
    {
      "cell_type": "markdown",
      "metadata": {
        "id": "view-in-github",
        "colab_type": "text"
      },
      "source": [
        "<a href=\"https://colab.research.google.com/github/gitboku/statistics-practice/blob/master/%E9%87%8D%E5%9B%9E%E5%B8%B0%E5%88%86%E6%9E%90.ipynb\" target=\"_parent\"><img src=\"https://colab.research.google.com/assets/colab-badge.svg\" alt=\"Open In Colab\"/></a>"
      ]
    },
    {
      "cell_type": "markdown",
      "metadata": {
        "id": "ftXsOgoX0yG6",
        "colab_type": "text"
      },
      "source": [
        "# 重回帰分析とは何か"
      ]
    },
    {
      "cell_type": "markdown",
      "metadata": {
        "id": "5ai2bKEZpM4U",
        "colab_type": "text"
      },
      "source": [
        "参考：　https://to-kei.net/basic-study/regression/multiple-regression-analysis/"
      ]
    },
    {
      "cell_type": "markdown",
      "metadata": {
        "id": "q6J_01rLpVi1",
        "colab_type": "text"
      },
      "source": [
        "成人の身長を例にする。\n",
        "\n",
        "身長を目的変数を$y$、体重と年齢を説明変数$x_1, x_2$とする。  \n",
        "すると、以下のようにあらわせる。\n",
        "\n",
        "$$\n",
        "y = a_1x_1 + a_2x_2 + b\n",
        "$$\n",
        "\n",
        "$a$は偏回帰係数と呼ばれ、$a_i$は最小二乗法によって求められる。"
      ]
    },
    {
      "cell_type": "markdown",
      "metadata": {
        "id": "a_v64ueGqsN_",
        "colab_type": "text"
      },
      "source": [
        "## 標準化偏回帰係数"
      ]
    },
    {
      "cell_type": "markdown",
      "metadata": {
        "id": "_PsWe15qqwwf",
        "colab_type": "text"
      },
      "source": [
        "標準化偏回帰係数とは各変数の重要度を表す指標であり、大小を比較することでどの変数が重要なのかを測る。  \n",
        "例えば、体重を㎏でデータを取得した時と、ｇで取得した時では偏回帰係数に1000倍の差が出てしまうが、標準化偏回帰係数なら単位に関わらず各説明変数の影響の大きさを測ることができる。\n",
        "\n",
        "目的変数yの標準偏差を$SD(y)$、説明変数xの標準偏差を$SD(x)$とすると、標準化偏回帰係数Aは以下のようにあらわす。\n",
        "\n",
        "$$\n",
        "A_i = a_i\\frac {SD(x_i)} {SD(y)}\n",
        "$$"
      ]
    },
    {
      "cell_type": "markdown",
      "metadata": {
        "id": "UAeFBBrTyN78",
        "colab_type": "text"
      },
      "source": [
        "## ダミー変数"
      ]
    },
    {
      "cell_type": "markdown",
      "metadata": {
        "id": "1oQ21icJyQpj",
        "colab_type": "text"
      },
      "source": [
        "「性別」のような数字で表せないカテゴリー変数を{0, 1}に変換したものをダミー変数という。  \n",
        "2種類の値を持つデータ（例えば男と女）では0または1で表す。  \n",
        "3変数以上の場合は変数n個に対してn-1個の列を用いることで表せる。  \n",
        "例えば、｛白人、黒人、アジア人｝の3つの値を取るときは、「白人」「黒人」の二つの列を用意し、「両方0ならアジア人」というようにして表す。"
      ]
    },
    {
      "cell_type": "markdown",
      "metadata": {
        "id": "rLS3NnQT0j4G",
        "colab_type": "text"
      },
      "source": [
        "## 説明変数を選ぶ注意点"
      ]
    },
    {
      "cell_type": "markdown",
      "metadata": {
        "id": "SPFNZ_ll0nSW",
        "colab_type": "text"
      },
      "source": [
        "\n",
        "\n",
        "*   説明変数同士の相関係数は低く抑える。\n",
        "*   現在のデータに対する説明力を考えるときは決定係数を、新たなデータに対する予測力を考えるときはAIC（赤池情報量基準）を用いるといい。\n",
        "\n"
      ]
    },
    {
      "cell_type": "markdown",
      "metadata": {
        "id": "lbB5HQm911tO",
        "colab_type": "text"
      },
      "source": [
        "## 決定係数"
      ]
    },
    {
      "cell_type": "markdown",
      "metadata": {
        "id": "ucwM4_7R2NSu",
        "colab_type": "text"
      },
      "source": [
        "パラメータ推定に使用したデータに対して推定された回帰式の当てはまりの良さを表す。  \n",
        "「寄与率」ともいう。  \n",
        "一般には$R^2$で表され、回帰変動$S_R$を全体変動$S_T$で割った値である。  \n",
        "0から1の値を取り、1に近いほどデータに当てはまっている。\n",
        "\n",
        "$$\n",
        "\\begin{eqnarray}\n",
        "R^2 &=& \\frac{S_R}{S_T}\\\\\n",
        "S_R &=& \\displaystyle \\sum_{i = 1}^n {\\left(\\hat{y}_i - \\overline{y} \\right)}^2\\\\\n",
        "S_T &=& \\displaystyle \\sum_{i = 1}^n {\\left(y_i - \\overline{y} \\right)}^2 \n",
        "\\end{eqnarray}\n",
        "$$\n",
        "\n",
        "$\\hat{y}_i$は回帰式から推定されたデータで、$y_i$は実際のデータ。"
      ]
    },
    {
      "cell_type": "markdown",
      "metadata": {
        "id": "XSafDFXf4KJd",
        "colab_type": "text"
      },
      "source": [
        "重回帰分析では変数が増えるほど無条件で1に近づいてしまうので、代わりに「自由度修正済み決定係数」を使用する。"
      ]
    },
    {
      "cell_type": "markdown",
      "metadata": {
        "id": "-5MEyY2fBdOU",
        "colab_type": "text"
      },
      "source": [
        "## 自由度調整済み決定係数"
      ]
    },
    {
      "cell_type": "markdown",
      "metadata": {
        "id": "h9_V8dASBjrp",
        "colab_type": "text"
      },
      "source": [
        "$R_f^2$で表す。  \n",
        "データ数をN、説明変数の数をpとすると、以下のようになる。\n",
        "\n",
        "$$\n",
        "R_f^2 = 1 - \\frac{\\frac {S_R} {N - p - 1}}{\\frac {S_T} {N - 1}}\n",
        "$$"
      ]
    },
    {
      "cell_type": "markdown",
      "metadata": {
        "id": "68hTsWzVCI0n",
        "colab_type": "text"
      },
      "source": [
        "このほかにAIC（赤池情報量基準）を用いてもよい。"
      ]
    },
    {
      "cell_type": "markdown",
      "metadata": {
        "id": "rzsMVV7F02hv",
        "colab_type": "text"
      },
      "source": [
        "# どのようにしてパラメータを求めるのか"
      ]
    },
    {
      "cell_type": "markdown",
      "metadata": {
        "id": "VyqyrTyRnl_g",
        "colab_type": "text"
      },
      "source": [
        "参考：　https://tutorials.chainer.org/ja/07_Regression_Analysis.html"
      ]
    },
    {
      "cell_type": "markdown",
      "metadata": {
        "id": "WXTXvliFnogx",
        "colab_type": "text"
      },
      "source": [
        "### Step1 モデル決定"
      ]
    },
    {
      "cell_type": "markdown",
      "metadata": {
        "id": "cLkHCAlhoMiC",
        "colab_type": "text"
      },
      "source": [
        "重回帰分析のモデルは基本的に以下のようになる。\n",
        "\n",
        "$$\n",
        "\\begin{eqnarray}\n",
        "y &=& w_1x_1 + w_2x_2 + ... + w_mx_m + b\\\\\n",
        "&=& \\displaystyle \\sum_{m = 1}^M w_mx_m + b\n",
        "\\end{eqnarray}\n",
        "$$\n",
        "\n",
        "バイアスbについて考える。\n",
        "\n",
        "重回帰分析ではMこのパラメータと1つのバイアスが存在するので、パラメータ数はM+1個。これらのパラメータをうまく定式化するため、$x_0 = 1, w_0 = b$とすることで、以下のように書き換えることができる。\n",
        "\n",
        "$$\n",
        "\\begin{eqnarray}\n",
        "y &=& \\displaystyle \\sum_{m = 0}^M w_mx_m\n",
        "\\end{eqnarray}\n",
        "$$\n",
        "\n",
        "これでバイアスbまで含めて行列計算で簡単に扱える。\n",
        "\n",
        "この式をベクトルの内積で表記しなおす。\n",
        "\n",
        "$$\n",
        "\\begin{eqnarray}\n",
        "y &=& w_0x_0 + w_1x_1 + w_2x_2 + ... + w_mx_m\\\\\n",
        "&=& [w_0 \\  w_1\\ \\cdots\\ w_M]\\left[\n",
        "    \\begin{array}{c}\n",
        "      x_0 \\\\\n",
        "      x_1 \\\\\n",
        "      \\vdots \\\\\n",
        "      x_M\n",
        "    \\end{array}\n",
        "  \\right]\\\\\n",
        "&=& w^Tx\n",
        "\\end{eqnarray}\n",
        "$$"
      ]
    },
    {
      "cell_type": "markdown",
      "metadata": {
        "id": "8XVpuQv1s_sb",
        "colab_type": "text"
      },
      "source": [
        "### Step2 目的関数を決める"
      ]
    },
    {
      "cell_type": "markdown",
      "metadata": {
        "id": "ccswGbIEtDxs",
        "colab_type": "text"
      },
      "source": [
        "単回帰分析と同様に「（実際のデータ - 推定値）の合計」を目的関数とする\n",
        "\n",
        "$$\n",
        "\\begin{eqnarray}\n",
        "L &=& (t_1 - y_1)^2 + \\cdots + (t_N - y_N)^2\\\\\n",
        "&=& [y_1-y_1\\ \\cdots\\ t_N-y_N]\\left[\n",
        "    \\begin{array}{c}\n",
        "      t_1-y_1 \\\\\n",
        "      \\vdots \\\\\n",
        "      t_N-y_N\n",
        "    \\end{array}\n",
        "  \\right]\\\\\n",
        "&=& (t-y)^T(t-y)\n",
        "\\end{eqnarray}\n",
        "$$"
      ]
    },
    {
      "cell_type": "markdown",
      "metadata": {
        "id": "KfhQSI4pnjeG",
        "colab_type": "text"
      },
      "source": [
        "ここで、内積の交換法則を利用してモデルの方程式$y = w^Tx$を以下のように変形する。\n",
        "\n",
        "$$\n",
        "\\begin{eqnarray}\n",
        "y = \\left[\\begin{array}{c}\n",
        "      y_1 \\\\\n",
        "      \\vdots \\\\\n",
        "      y_N\n",
        "    \\end{array}\n",
        "  \\right] = \\left[\\begin{array}{c}\n",
        "      x_1^Tw \\\\\n",
        "      \\vdots \\\\\n",
        "      x_N^Tw\n",
        "    \\end{array}\n",
        "  \\right] = \\left[\\begin{array}{c}\n",
        "      x_1^T \\\\\n",
        "      \\vdots \\\\\n",
        "      x_N^T\n",
        "    \\end{array}\n",
        "  \\right]w\n",
        "\\end{eqnarray}\n",
        "$$"
      ]
    },
    {
      "cell_type": "markdown",
      "metadata": {
        "id": "diE1Uwx6nwdo",
        "colab_type": "text"
      },
      "source": [
        "ここで、$x_n^T$はそれ一つ一つがベクトルである。\n",
        "\n",
        "$$\n",
        "x_n^T = [x_{n0}\\ \\cdots\\ x_{nM}](n = 1, \\cdots, N)\n",
        "$$\n",
        "\n",
        "なので、yは以下のように書ける。\n",
        "\n",
        "$$\n",
        "y = \\left[\n",
        "    \\begin{array}{ccc}\n",
        "      x_{10} & \\cdots & x_{1M} \\\\\n",
        "      \\vdots & \\ddots & \\vdots \\\\\n",
        "      x_{N0} & \\cdots & x_{NM}\n",
        "    \\end{array}\n",
        "  \\right]\\left[\n",
        "    \\begin{array}{ccc}\n",
        "      w_0 \\\\\n",
        "      \\vdots \\\\\n",
        "      w_M\n",
        "    \\end{array}\n",
        "  \\right] = Xw\n",
        "$$"
      ]
    },
    {
      "cell_type": "markdown",
      "metadata": {
        "id": "QGPDtTQzn_LX",
        "colab_type": "text"
      },
      "source": [
        "ここで、大きさがN行M列の行列Xは各行が各データ、各列が各入力変数（説明変数）を表しており、これをデザイン行列（design matrix）と呼ぶ。\n",
        "\n",
        "デザイン行列の一番左の列はバイアスであるため、すべて1である。"
      ]
    },
    {
      "cell_type": "markdown",
      "metadata": {
        "id": "vXx5LzhspKdl",
        "colab_type": "text"
      },
      "source": [
        "### Step3 パラメータを最適化"
      ]
    },
    {
      "cell_type": "markdown",
      "metadata": {
        "id": "KNKwvhMzpOVP",
        "colab_type": "text"
      },
      "source": [
        "単回帰分析と同様、目的関数をパラメータで微分して0とおき、wについて解く。\n",
        "\n",
        "まず、目的関数$L = (t-y)^T(t-y)$を$y = Xw$を利用して置き換える。\n",
        "\n",
        "$$\n",
        "\\begin{eqnarray}\n",
        "L &=& (t-y)^T(t-y)\\\\\n",
        " &=& (t-Xw)^T(t-Xw)\\\\\n",
        " &=& \\{t^T - (Xw)^T\\}(t-Xw)\\\\\n",
        " &=& (t^T - t^TX^T)(t-Xw)\n",
        "\\end{eqnarray}\n",
        "$$\n",
        "\n",
        "この式を展開する\n",
        "\n",
        "$L = t^Tt - t^TXw - w^TX^Tt + w^TX^TXw$\n",
        "\n",
        "---\n",
        "$t^TXw$はスカラーとなるため、$(t^TXw)^T = t^TXw$が成り立つ。\n",
        "\n",
        "さらに、転地の公式$(ABC)^T = C^TB^TA^T$により、$(t^TXw)^T = w^TX^Tt$が成り立つ。\n",
        "\n",
        "よって、上記二つの式により、以下が成り立つ。\n",
        "\n",
        "$$\n",
        "t^TXw = w^TX^Tt\n",
        "$$\n",
        "\n",
        "この式で目的関数を第3項を入れ替えることにより、目的関数を以下のように書き直す。\n",
        "\n",
        "$$\n",
        "L = t^Tt - 2t^TXw + w^TX^TXw\n",
        "$$"
      ]
    },
    {
      "cell_type": "markdown",
      "metadata": {
        "id": "NZHo4n-U0VU7",
        "colab_type": "text"
      },
      "source": [
        "偏微分しやすくするため、w以外の定数項を一つにまとめる。\n",
        "\n",
        "$$\n",
        "\\begin{eqnarray}\n",
        "L &=& t^T - 2t^TXw + w^TX^TXw\\\\\n",
        "&=& t^Tt - 2(X^Tt)^Tw + w^TX^TXw\\\\\n",
        "\\end{eqnarray}\n",
        "$$\n",
        "\n",
        "さらに、見やすくするためにw以外を以下のように書き換える。\n",
        "\n",
        "$$\n",
        "\\begin{eqnarray}\n",
        "A &=& X^TX\\\\\n",
        "b &=& -2X^Tt\\\\\n",
        "c &=& t^Tt\n",
        "\\end{eqnarray}\n",
        "$$\n",
        "すると以下のようになる。\n",
        "$$L = c + b^Tw + w^TAw$$"
      ]
    },
    {
      "cell_type": "markdown",
      "metadata": {
        "id": "P2ENYv2NG9a5",
        "colab_type": "text"
      },
      "source": [
        "この目的関数Lを最小にするパラメータwを考える。\n",
        "\n",
        "この目的関数はwについての2次関数になっている（途中式は省略するが、A, b, cに具体的な数値を入れて計算すると、wの2次関数になる）\n",
        "\n",
        "wはM個の目的変数のベクトルなので、以下のM＋1個の連立方程式を解く必要がある。\n",
        "\n",
        "$$\n",
        "\\begin{eqnarray}\n",
        "    \\begin{cases}\n",
        "      \\frac {\\partial}{\\partial w_0}L = 0 \\\\\n",
        "      \\vdots \\\\\n",
        "      \\frac {\\partial}{\\partial w_M}L = 0\n",
        "    \\end{cases}\n",
        "\\end{eqnarray}\n",
        "$$"
      ]
    },
    {
      "cell_type": "markdown",
      "metadata": {
        "id": "LJzoEfw1uFHq",
        "colab_type": "text"
      },
      "source": [
        "これをベクトルを用いて表記すると以下のようになる。\n",
        "\n",
        "$$\n",
        "\\left[\\begin{array}{c}\n",
        "      \\frac {\\partial}{\\partial w_0}L \\\\\n",
        "      \\vdots \\\\\n",
        "      \\frac {\\partial}{\\partial w_M}L\n",
        "    \\end{array}\n",
        "\\right] = \\left[\\begin{array}{c}\n",
        "      0 \\\\\n",
        "      \\vdots \\\\\n",
        "      0\n",
        "    \\end{array}\n",
        "\\right]\n",
        "$$"
      ]
    },
    {
      "cell_type": "markdown",
      "metadata": {
        "id": "kGIBencJvDTp",
        "colab_type": "text"
      },
      "source": [
        "上記の式をwについて解くため、以下のような変形を行う。\n",
        "\n",
        "$$\n",
        "\\begin{eqnarray}\n",
        "\\frac {\\partial}{\\partial w}L &=& \\frac {\\partial}{\\partial w}(c + b^Tw + w^TAw)\\\\\n",
        "&=& \\frac {\\partial}{\\partial w}(c) + \\frac {\\partial}{\\partial w}(b^Tw) + \\frac {\\partial}{\\partial w}(w^TAw)\\\\\n",
        "&=& 0 + b^T + w^T(A + A^T)\n",
        "\\end{eqnarray}\n",
        "$$\n",
        "\n",
        "これを0と置き、A、bを入れ替え前に戻す\n",
        "\n",
        "$$\n",
        "\\begin{eqnarray}\n",
        "-2(X^Tt)^T + w^T\\{X^TX + (X^TX)^T\\} &=& 0\\\\\n",
        "-2t^TX + 2w^TX^TX &=& 0\\\\\n",
        "w^TX^TX &=& t^TX\n",
        "\\end{eqnarray}\n",
        "$$\n",
        "\n",
        "この両辺を転地して、転地の公式により$w^T$の転地を直す。\n",
        "\n",
        "$$\n",
        "\\begin{eqnarray}\n",
        "(w^TX^TX)^T &=& (t^TX)^T\\\\\n",
        "X^TXw &=& X^Tt\n",
        "\\end{eqnarray}\n",
        "$$"
      ]
    },
    {
      "cell_type": "markdown",
      "metadata": {
        "id": "Qz0vPmdWxGDw",
        "colab_type": "text"
      },
      "source": [
        "ここで、$X^TX$に逆行列が存在すると仮定して、両辺に左側から$(X^TX)^{-1}$をかける（※$I$は単位行列）\n",
        "\n",
        "$$\n",
        "\\begin{eqnarray}\n",
        "(X^TX)^{-1}X^TXw &=& (X^TX)^{-1}X^Tt\\\\\n",
        "Iw &=& (X^TX)^{-1}X^Tt\\\\\n",
        "w &=& (X^TX)^{-1}X^Tt\n",
        "\\end{eqnarray}\n",
        "$$"
      ]
    },
    {
      "cell_type": "markdown",
      "metadata": {
        "id": "s9pLgggnW1Zx",
        "colab_type": "text"
      },
      "source": [
        "# 実装"
      ]
    },
    {
      "cell_type": "code",
      "metadata": {
        "id": "h4r0uiLPW1Jd",
        "colab_type": "code",
        "colab": {}
      },
      "source": [
        "import numpy as np\n",
        "import pandas as pd"
      ],
      "execution_count": 0,
      "outputs": []
    },
    {
      "cell_type": "markdown",
      "metadata": {
        "id": "k3Xp_viMW_kS",
        "colab_type": "text"
      },
      "source": [
        "## データ用意"
      ]
    },
    {
      "cell_type": "code",
      "metadata": {
        "id": "ERQjVCWjW-es",
        "colab_type": "code",
        "colab": {}
      },
      "source": [
        "# 元からあったsample_dataを使用する\n",
        "csv = pd.read_csv('/content/sample_data/california_housing_train.csv')"
      ],
      "execution_count": 0,
      "outputs": []
    },
    {
      "cell_type": "code",
      "metadata": {
        "id": "de2TvR0KXEja",
        "colab_type": "code",
        "outputId": "bf4ce66b-833a-41aa-969a-e05e2a9d9811",
        "colab": {
          "base_uri": "https://localhost:8080/",
          "height": 90
        }
      },
      "source": [
        "csv.columns"
      ],
      "execution_count": 0,
      "outputs": [
        {
          "output_type": "execute_result",
          "data": {
            "text/plain": [
              "Index(['longitude', 'latitude', 'housing_median_age', 'total_rooms',\n",
              "       'total_bedrooms', 'population', 'households', 'median_income',\n",
              "       'median_house_value'],\n",
              "      dtype='object')"
            ]
          },
          "metadata": {
            "tags": []
          },
          "execution_count": 4
        }
      ]
    },
    {
      "cell_type": "code",
      "metadata": {
        "id": "Q0OdSIoNX8-n",
        "colab_type": "code",
        "colab": {}
      },
      "source": [
        "households = csv['households']\n",
        "population = csv['population']\n",
        "total_rooms = csv['total_rooms']"
      ],
      "execution_count": 0,
      "outputs": []
    },
    {
      "cell_type": "code",
      "metadata": {
        "id": "eU_i0dFFppxJ",
        "colab_type": "code",
        "outputId": "0a48d06d-1921-4b4c-f8fc-67f117804ce2",
        "colab": {
          "base_uri": "https://localhost:8080/",
          "height": 319
        }
      },
      "source": [
        "from matplotlib import pyplot\n",
        "from mpl_toolkits.mplot3d.axes3d import Axes3D\n",
        "\n",
        "# TODO: 3Dの散布図がマウスドラッグできないのでどうにかする\n",
        "\n",
        "fig = pyplot.figure()\n",
        "ax = Axes3D(fig)\n",
        "ax.scatter(households, total_rooms, population)\n",
        "pyplot.show()"
      ],
      "execution_count": 4,
      "outputs": [
        {
          "output_type": "display_data",
          "data": {
            "image/png": "[encoded data removed]",
            "text/plain": [
              "<Figure size 432x288 with 1 Axes>"
            ]
          },
          "metadata": {
            "tags": [],
            "needs_background": "light"
          }
        }
      ]
    },
    {
      "cell_type": "markdown",
      "metadata": {
        "id": "Hi84Gy1r7OAw",
        "colab_type": "text"
      },
      "source": [
        "目的変数をpopulation、説明変数をtotal_roomsとhouseholdsとする。  \n",
        "この変数選択が分析として正しいのかどうかはいったん不問とする。"
      ]
    },
    {
      "cell_type": "markdown",
      "metadata": {
        "id": "ROEalLCNBhGy",
        "colab_type": "text"
      },
      "source": [
        "## パラメータ推定"
      ]
    },
    {
      "cell_type": "code",
      "metadata": {
        "id": "GqK18zU37b5O",
        "colab_type": "code",
        "colab": {}
      },
      "source": [
        "# 説明変数の行列を用意する\n",
        "bias = np.ones(total_rooms.size, dtype='int16')\n",
        "total_rooms_np = np.array(total_rooms, dtype='int16')\n",
        "households_np = np.array(households, dtype='int16')\n",
        "X = np.matrix([bias, total_rooms, households]).T"
      ],
      "execution_count": 0,
      "outputs": []
    },
    {
      "cell_type": "code",
      "metadata": {
        "id": "-aXN7kuLU4Hj",
        "colab_type": "code",
        "outputId": "260ad357-9935-497f-c437-c259f0b29c92",
        "colab": {
          "base_uri": "https://localhost:8080/",
          "height": 35
        }
      },
      "source": [
        "population_np = np.matrix(population, dtype='int16') # shape = (1, 17000)\n",
        "w = np.linalg.inv(X.T * X) * X.T * population_np.T # population_npは転地して縦ベクトルにする\n",
        "w.shape"
      ],
      "execution_count": 6,
      "outputs": [
        {
          "output_type": "execute_result",
          "data": {
            "text/plain": [
              "(3, 1)"
            ]
          },
          "metadata": {
            "tags": []
          },
          "execution_count": 6
        }
      ]
    },
    {
      "cell_type": "code",
      "metadata": {
        "id": "c1_kw82JWvvf",
        "colab_type": "code",
        "outputId": "393d7fa8-b0d8-480e-81ba-4293725dacc1",
        "colab": {
          "base_uri": "https://localhost:8080/",
          "height": 72
        }
      },
      "source": [
        "w"
      ],
      "execution_count": 7,
      "outputs": [
        {
          "output_type": "execute_result",
          "data": {
            "text/plain": [
              "matrix([[1.18421072e+02],\n",
              "        [8.18679575e-02],\n",
              "        [2.17641391e+00]])"
            ]
          },
          "metadata": {
            "tags": []
          },
          "execution_count": 7
        }
      ]
    },
    {
      "cell_type": "markdown",
      "metadata": {
        "id": "kB7BHLPb16Je",
        "colab_type": "text"
      },
      "source": [
        "## 学習結果描画"
      ]
    },
    {
      "cell_type": "code",
      "metadata": {
        "id": "HWmhkEvM_evB",
        "colab_type": "code",
        "colab": {}
      },
      "source": [
        "# パラメータを基にpopulationの推定値を出す。\n",
        "pred_population = []\n",
        "for x in X:\n",
        "  pred_population.append(w[0] * x.item(0, 0) + w[1] * x.item(0, 1) + w[2] * x.item(0, 2))\n",
        "pred_population_np = np.array(pred_population).reshape(len(pred_population),)"
      ],
      "execution_count": 0,
      "outputs": []
    },
    {
      "cell_type": "code",
      "metadata": {
        "id": "sB1DmTUDOvGz",
        "colab_type": "code",
        "colab": {
          "base_uri": "https://localhost:8080/",
          "height": 72
        },
        "outputId": "7bbcbb58-63a3-44d8-ae24-5c789196c756"
      },
      "source": [
        "print('household: ', households.shape)\n",
        "print('total_rooms: ', total_rooms.shape)\n",
        "print('pred_population_np: ', pred_population_np.shape)"
      ],
      "execution_count": 43,
      "outputs": [
        {
          "output_type": "stream",
          "text": [
            "household:  (17000,)\n",
            "total_rooms:  (17000,)\n",
            "pred_population_np:  (17000,)\n"
          ],
          "name": "stdout"
        }
      ]
    },
    {
      "cell_type": "code",
      "metadata": {
        "id": "gZX-qo1hkPmL",
        "colab_type": "code",
        "colab": {
          "base_uri": "https://localhost:8080/",
          "height": 319
        },
        "outputId": "3f340dc1-75f0-43d0-a925-11d96909ca8f"
      },
      "source": [
        "from matplotlib import pyplot as plt\n",
        "from mpl_toolkits.mplot3d.axes3d import Axes3D\n",
        "\n",
        "fig = plt.figure()\n",
        "ax = Axes3D(fig)\n",
        "\n",
        "ax.scatter(households, total_rooms, population, c='red')\n",
        "\n",
        "ax.set_xlabel('households')\n",
        "ax.set_ylabel('total_rooms')\n",
        "ax.set_zlabel('population')\n",
        "\n",
        "ax.plot_trisurf(\n",
        "    households,\n",
        "    total_rooms,\n",
        "    pred_population_np)\n",
        "ax.view_init(30, 30) # TODO: 見づらいので、図をマウスドラッグで回転できるようにする\n",
        "plt.show()"
      ],
      "execution_count": 56,
      "outputs": [
        {
          "output_type": "display_data",
          "data": {
            "image/png": "[encoded data removed]",
            "text/plain": [
              "<Figure size 432x288 with 1 Axes>"
            ]
          },
          "metadata": {
            "tags": [],
            "needs_background": "light"
          }
        }
      ]
    },
    {
      "cell_type": "code",
      "metadata": {
        "id": "3sNUMdq43SeV",
        "colab_type": "code",
        "colab": {}
      },
      "source": [
        ""
      ],
      "execution_count": 0,
      "outputs": []
    }
  ]
}