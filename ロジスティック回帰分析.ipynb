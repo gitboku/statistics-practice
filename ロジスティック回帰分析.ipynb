{
  "nbformat": 4,
  "nbformat_minor": 0,
  "metadata": {
    "colab": {
      "name": "ロジスティック回帰分析",
      "provenance": [],
      "collapsed_sections": [],
      "toc_visible": true,
      "authorship_tag": "ABX9TyOlyYix2gCv1mMyAvxK1KzM",
      "include_colab_link": true
    },
    "kernelspec": {
      "name": "python3",
      "display_name": "Python 3"
    }
  },
  "cells": [
    {
      "cell_type": "markdown",
      "metadata": {
        "id": "view-in-github",
        "colab_type": "text"
      },
      "source": [
        "<a href=\"https://colab.research.google.com/github/gitboku/statistics-practice/blob/master/%E3%83%AD%E3%82%B8%E3%82%B9%E3%83%86%E3%82%A3%E3%83%83%E3%82%AF%E5%9B%9E%E5%B8%B0%E5%88%86%E6%9E%90.ipynb\" target=\"_parent\"><img src=\"https://colab.research.google.com/assets/colab-badge.svg\" alt=\"Open In Colab\"/></a>"
      ]
    },
    {
      "cell_type": "markdown",
      "metadata": {
        "id": "JrOi2VugMeoX",
        "colab_type": "text"
      },
      "source": [
        "# ロジスティック回帰分析とは"
      ]
    },
    {
      "cell_type": "markdown",
      "metadata": {
        "id": "iBkF51n9Mhz6",
        "colab_type": "text"
      },
      "source": [
        "目的変数を0から1の範囲でとりたいときに有効な分析方法。\n",
        "例えば、癌の発生確率など。"
      ]
    },
    {
      "cell_type": "markdown",
      "metadata": {
        "id": "4hl44YSqlT_N",
        "colab_type": "text"
      },
      "source": [
        "## 非線形回帰とは"
      ]
    },
    {
      "cell_type": "markdown",
      "metadata": {
        "id": "A5m7QyB2lW-f",
        "colab_type": "text"
      },
      "source": [
        "単回帰分析と重回帰分析は線警戒機。\n",
        "非線形は直線ではない関係、例えば2上とかルートの関係。\n",
        "ロジスティック回帰分析以外には多項式回帰分析とかサポートベクトル回帰分析などがある。"
      ]
    },
    {
      "cell_type": "markdown",
      "metadata": {
        "id": "Kyfd1s55lq1l",
        "colab_type": "text"
      },
      "source": [
        "## 数式"
      ]
    },
    {
      "cell_type": "markdown",
      "metadata": {
        "id": "Fh7ygFsUwqlp",
        "colab_type": "text"
      },
      "source": [
        "参考：　https://mathwords.net/logitkansu\n",
        "\n",
        "確率$p$で発生する事象AAについて、起こる確率と起こらない確率との比$\\frac{p}{1-p}$をオッズという。\n",
        "この対数を取ったもの$\\log\\frac{p}{1-p} = \\log p\\ -\\ \\log(1-p)$を対数オッズと呼ぶ。\n",
        "\n",
        "ここで、$y = \\log\\frac{p}{1-p}$をロジット関数と呼ぶ。\n",
        "\n",
        "このロジット関数の逆関数を取る。\n",
        "\n",
        "$$\n",
        "\\begin{eqnarray}\n",
        "y &=& \\log\\frac{p}{1-p}\\\\\n",
        "e^y &=& \\frac{p}{1-p}\\\\\n",
        "e^y - e^yp &=& p\\\\\n",
        "p &=& \\frac{e^y}{e^y + 1} = \\frac{1}{1 + e^{-y}}\n",
        "\\end{eqnarray}\n",
        "$$\n",
        "\n",
        "ここで、ロジット関数の逆関数をロジスティック関数と呼ぶ"
      ]
    },
    {
      "cell_type": "markdown",
      "metadata": {
        "id": "cihlru9-ltvZ",
        "colab_type": "text"
      },
      "source": [
        "ロジスティック回帰分析では以下の式を取る。\n",
        "\n",
        "$$\n",
        "p = \\frac {1} {1+ \\exp(-(a_1x_1 + \\cdots + a_nx_n + b))}\n",
        "$$\n",
        "\n",
        "これを変形すると以下のようになる。\n",
        "\n",
        "$$\n",
        "\\ln{\\frac {p} {1-p}} = a_1x_1 + \\cdots + a_nx_n + b\n",
        "$$\n",
        "\n",
        "なお、上のほうの式はシグモイド関数とも呼ばれる。"
      ]
    },
    {
      "cell_type": "markdown",
      "metadata": {
        "id": "2nsb6q2bf_xU",
        "colab_type": "text"
      },
      "source": [
        "## 偏回帰係数の求め方"
      ]
    },
    {
      "cell_type": "markdown",
      "metadata": {
        "id": "sU2deAI1gDhG",
        "colab_type": "text"
      },
      "source": [
        "ロジスティック回帰分析では単回帰や重回帰のように最小二乗法で求めることはできないらしい。  \n",
        "\n",
        "参考：　https://qiita.com/karaage0703/items/417934d82ac3c3c5f70e#%E3%83%AD%E3%82%B8%E3%82%B9%E3%83%86%E3%82%A3%E3%83%83%E3%82%AF%E5%9B%9E%E5%B8%B0%E5%88%86%E6%9E%90%E3%81%AE%E8%A7%A3%E3%81%8D%E6%96%B9\n",
        "\n",
        "\n",
        "よって、勾配降下法などを使用して逐次計算でパラメータ推定をする。"
      ]
    },
    {
      "cell_type": "markdown",
      "metadata": {
        "id": "vwHNOAkcraJP",
        "colab_type": "text"
      },
      "source": [
        "## 勾配降下法について"
      ]
    },
    {
      "cell_type": "markdown",
      "metadata": {
        "id": "GvXJ-p1irdK7",
        "colab_type": "text"
      },
      "source": [
        "いくつかの種類がある。\n",
        "\n",
        "*   最急降下法（Gradient Descent）\n",
        "*   確率的勾配降下法（Stochastic Gradient Descent）\n",
        "*   ミニバッチ確率的勾配降下法（Minibatch SGD）\n",
        "\n",
        "計算量が少ない、オンライン学習が可能といったメリットから、たいていの場合確率的勾配降下法を使用するが、異常値に引っ張られやすい。\n",
        "\n",
        "ミニバッチ法ではまとまったデータをいくつかの組に分けて確率的勾配降下法を行う。\n",
        "全データを使用する回数のことをエポック数という。\n",
        "例えば、データ数が1000で、ミニバッチのサイズが50の時、20回学習を行うと全データを1周するので、20反復が1エポックとなる。\n",
        "\n",
        "エポック数が10なら10000のデータを使用する。ミニバッチサイズが50なので、200回学習することになる。"
      ]
    },
    {
      "cell_type": "markdown",
      "metadata": {
        "id": "M7Ej04KCNO2c",
        "colab_type": "text"
      },
      "source": [
        "勾配の計算方法は以下の通りになる。\n",
        "$y^*$は事象が発生する確率\n",
        "\n",
        "$$\n",
        "\\begin{eqnarray}\n",
        "\\frac {\\partial L}{\\partial w} &=& -\\displaystyle \\sum_{n=1}^Nx_n(y - y^*)\\\\\n",
        "\\frac {\\partial L}{\\partial b} &=& -\\displaystyle \\sum_{n=1}^N(y - y^*)\\\\\n",
        "\\end{eqnarray}\n",
        "$$\n",
        "\n",
        "これらにそれぞれ学習率$\\eta$を掛けた値を現在のパラメータから引いた値を新しいパラメータとして使用する\n",
        "\n",
        "$$\n",
        "\\begin{eqnarray}\n",
        "w &\\leftarrow& w - \\eta\\frac {\\partial L}{\\partial w}\\\\\n",
        "b &\\leftarrow& b - \\eta\\frac {\\partial L}{\\partial b}\n",
        "\\end{eqnarray}\n",
        "$$"
      ]
    },
    {
      "cell_type": "markdown",
      "metadata": {
        "id": "3vUg-ghPHm3K",
        "colab_type": "text"
      },
      "source": [
        "# 実装"
      ]
    },
    {
      "cell_type": "markdown",
      "metadata": {
        "id": "xZv3KRB5H_Gg",
        "colab_type": "text"
      },
      "source": [
        "参考：　https://qiita.com/hkthirano/items/ff845d2385798d1aed44"
      ]
    },
    {
      "cell_type": "code",
      "metadata": {
        "id": "-0mGbP9eHpBW",
        "colab_type": "code",
        "outputId": "7b86cad0-1bcd-403c-ffcf-bfd8c1219d7d",
        "colab": {
          "base_uri": "https://localhost:8080/",
          "height": 531
        }
      },
      "source": [
        "import numpy as np\n",
        "import matplotlib.pyplot as plt\n",
        "\n",
        "d = 2 # 次元数\n",
        "N = 100 # データ数\n",
        "x1 = np.random.randn(N // 2, d) # 適当な(N, d)のnumpy.ndarrayを作成\n",
        "x2 = np.random.randn(N // 2, d) + np.array([6, 6]) # (6, 6)の座標の周りに別なデータを作成\n",
        "\n",
        "x = np.vstack((x1, x2)) # 縦方向に結合する\n",
        "\n",
        "label1 = np.zeros(N // 2) # 正解ラベルが0\n",
        "label2 = np.ones(N // 2) # 不正解ラベルが1\n",
        "label = np.hstack((label1, label2)) # 横に結合する\n",
        "\n",
        "dataset = np.column_stack((x, label)) # hstackと似たような感じ\n",
        "np.random.shuffle(dataset) # 順番をシャッフルする\n",
        "\n",
        "X = dataset[:, :2] # 目的変数部分を取り出す。\n",
        "label = dataset[:, 2] # 教師データ部分を取り出す。\n",
        "\n",
        "plt.scatter(x1[:, 0], x1[:, 1], c='r')\n",
        "plt.scatter(x2[:, 0], x2[:, 1], c='b')\n",
        "plt.grid()\n",
        "plt.show()\n",
        "plt.close()\n",
        "\n",
        "# シグモイド関数\n",
        "def sigmoid(a):\n",
        "  return 1.0 / (1.0 + np.exp(-a))\n",
        "\n",
        "# 現在のパラメータにおける、ロジスティック回帰の予測値を返す関数\n",
        "def logistic(x):\n",
        "  return sigmoid(np.dot(x, w) + b)\n",
        "\n",
        "# 勾配を返す関数\n",
        "# TODO: 勾配を求める一般式が不明\n",
        "def grad(x, label):\n",
        "  diff = label - logistic(x)\n",
        "  w_grad = -logistic(x) * diff\n",
        "  b_grad = -np.mean(diff)\n",
        "  return w_grad, b_grad\n",
        "\n",
        "w = np.random.rand(d)\n",
        "b = np.random.random()\n",
        "\n",
        "# 学習率\n",
        "eta = 0.1\n",
        "\n",
        "# 最急降下法で学習\n",
        "for i in range(50):\n",
        "  index = 0\n",
        "  for row in X:\n",
        "    w_grad, b_grad = grad(x[index], label[index])\n",
        "    w -= eta * w_grad\n",
        "    b -= eta * b_grad\n",
        "    index += 1\n",
        "\n",
        "# 回帰直線の確認\n",
        "bx = np.arange(-6, 10, 0.1)\n",
        "by = -b / w[1] - w[0] / w[1] * bx\n",
        "plt.xlim([-5, 10])\n",
        "plt.ylim([-5, 9])\n",
        "plt.plot(bx, by)\n",
        "plt.scatter(x1[:, 0], x1[:, 1], c='r')\n",
        "plt.scatter(x2[:, 0], x2[:, 1], c='b')\n",
        "plt.show()\n",
        "plt.close()"
      ],
      "execution_count": 35,
      "outputs": [
        {
          "output_type": "display_data",
          "data": {
            "image/png": "[encoded data removed]",
            "text/plain": [
              "<Figure size 432x288 with 1 Axes>"
            ]
          },
          "metadata": {
            "tags": [],
            "needs_background": "light"
          }
        },
        {
          "output_type": "stream",
          "text": [
            "/usr/local/lib/python3.6/dist-packages/ipykernel_launcher.py:29: RuntimeWarning: overflow encountered in exp\n"
          ],
          "name": "stderr"
        },
        {
          "output_type": "display_data",
          "data": {
            "image/png": "[encoded data removed]",
            "text/plain": [
              "<Figure size 432x288 with 1 Axes>"
            ]
          },
          "metadata": {
            "tags": [],
            "needs_background": "light"
          }
        }
      ]
    },
    {
      "cell_type": "code",
      "metadata": {
        "id": "vm-IcNMK2gWY",
        "colab_type": "code",
        "colab": {}
      },
      "source": [
        ""
      ],
      "execution_count": 0,
      "outputs": []
    }
  ]
}