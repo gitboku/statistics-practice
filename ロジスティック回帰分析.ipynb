{
  "nbformat": 4,
  "nbformat_minor": 0,
  "metadata": {
    "colab": {
      "name": "ロジスティック回帰分析",
      "provenance": [],
      "authorship_tag": "ABX9TyNt7nQrTPPgyKRfBJ10twvd",
      "include_colab_link": true
    },
    "kernelspec": {
      "name": "python3",
      "display_name": "Python 3"
    }
  },
  "cells": [
    {
      "cell_type": "markdown",
      "metadata": {
        "id": "view-in-github",
        "colab_type": "text"
      },
      "source": [
        "<a href=\"https://colab.research.google.com/github/gitboku/statistics-practice/blob/master/%E3%83%AD%E3%82%B8%E3%82%B9%E3%83%86%E3%82%A3%E3%83%83%E3%82%AF%E5%9B%9E%E5%B8%B0%E5%88%86%E6%9E%90.ipynb\" target=\"_parent\"><img src=\"https://colab.research.google.com/assets/colab-badge.svg\" alt=\"Open In Colab\"/></a>"
      ]
    },
    {
      "cell_type": "markdown",
      "metadata": {
        "id": "JrOi2VugMeoX",
        "colab_type": "text"
      },
      "source": [
        "# ロジスティック回帰分析とは"
      ]
    },
    {
      "cell_type": "markdown",
      "metadata": {
        "id": "iBkF51n9Mhz6",
        "colab_type": "text"
      },
      "source": [
        "目的変数を0から1の範囲でとりたいときに有効な分析方法。\n",
        "例えば、癌の発生確率など。"
      ]
    },
    {
      "cell_type": "markdown",
      "metadata": {
        "id": "4hl44YSqlT_N",
        "colab_type": "text"
      },
      "source": [
        "## 非線形回帰とは"
      ]
    },
    {
      "cell_type": "markdown",
      "metadata": {
        "id": "A5m7QyB2lW-f",
        "colab_type": "text"
      },
      "source": [
        "単回帰分析と重回帰分析は線警戒機。\n",
        "非線形は直線ではない関係、例えば2上とかルートの関係。\n",
        "ロジスティック回帰分析以外には多項式回帰分析とかサポートベクトル回帰分析などがある。"
      ]
    },
    {
      "cell_type": "markdown",
      "metadata": {
        "id": "Kyfd1s55lq1l",
        "colab_type": "text"
      },
      "source": [
        "## 数式"
      ]
    },
    {
      "cell_type": "markdown",
      "metadata": {
        "id": "cihlru9-ltvZ",
        "colab_type": "text"
      },
      "source": [
        "ロジスティック回帰分析では以下の式を取る。\n",
        "\n",
        "$$\n",
        "p = \\frac {1} {1+ \\exp(-(a_1x_1 + \\cdots + a_nx_n + b))}\n",
        "$$\n",
        "\n",
        "これを変形すると以下のようになる。\n",
        "\n",
        "$$\n",
        "\\ln{\\frac {p} {1-p}} = a_1x_1 + \\cdots + a_nx_n + b\n",
        "$$\n",
        "\n",
        "子の式であれば重回帰分析と同じように最小二乗法で偏回帰係数を求めることができる。\n",
        "\n",
        "---\n",
        "また、上記の式をロジットと呼び、lで置くことがある。\n",
        "このロジットに対して指数を取ると、オッズが出てくる。\n",
        "\n",
        "$$\n",
        "\\exp(l) = \\frac {p} {1 - p}\n",
        "$$\n",
        "\n",
        "このオッズはある事象が発生する確率と発生しない確率の比になっている。"
      ]
    }
  ]
}