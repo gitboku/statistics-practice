{
  "nbformat": 4,
  "nbformat_minor": 0,
  "metadata": {
    "colab": {
      "name": "サポートベクトルマシン",
      "provenance": [],
      "collapsed_sections": [],
      "toc_visible": true,
      "mount_file_id": "1eqGq4jKa8uheldkuisSnm55lUzA7A9qB",
      "authorship_tag": "ABX9TyPV/GUwgazzc+yhTKzJyMLP",
      "include_colab_link": true
    },
    "kernelspec": {
      "name": "python3",
      "display_name": "Python 3"
    }
  },
  "cells": [
    {
      "cell_type": "markdown",
      "metadata": {
        "id": "view-in-github",
        "colab_type": "text"
      },
      "source": [
        "<a href=\"https://colab.research.google.com/github/gitboku/statistics-practice/blob/master/%E3%82%B5%E3%83%9D%E3%83%BC%E3%83%88%E3%83%99%E3%82%AF%E3%83%88%E3%83%AB%E3%83%9E%E3%82%B7%E3%83%B3.ipynb\" target=\"_parent\"><img src=\"https://colab.research.google.com/assets/colab-badge.svg\" alt=\"Open In Colab\"/></a>"
      ]
    },
    {
      "cell_type": "markdown",
      "metadata": {
        "id": "skh110fEizUD",
        "colab_type": "text"
      },
      "source": [
        "# サポートベクトルマシンとは"
      ]
    },
    {
      "cell_type": "markdown",
      "metadata": {
        "id": "rVez2KtVnpnU",
        "colab_type": "text"
      },
      "source": [
        "参考：　https://logics-of-blue.com/svm-concept/\n",
        "\n",
        "外れ値のようなデータまで使うと予測精度が下がるので、本当に必要となるデータのみを使用する。\n",
        "この「本当に必要なデータ」をサポートベクトルと呼び、これを用いた機械学習がサポートベクトルマシン(Sapport vector machine: SVM)。"
      ]
    },
    {
      "cell_type": "markdown",
      "metadata": {
        "id": "cuLsA3iIoDPS",
        "colab_type": "text"
      },
      "source": [
        "## サポートベクトルとは"
      ]
    },
    {
      "cell_type": "markdown",
      "metadata": {
        "id": "Kinkdf1RoE3k",
        "colab_type": "text"
      },
      "source": [
        "「マージン最大化」という考え方によって「予測に必要なデータ」を決定する。\n",
        "マージンとは判別する境界線とデータとの距離。\n",
        "マージンが大きい場合「ほんの少しデータが変わっただけで誤判定する」ということがなくなる。\n",
        "境界線と最も近くにあるデータをサポートベクトルと呼ぶ。\n",
        "\n",
        "境界線とサポートベクトルとのマージンを大きくすることで誤判定を防ぐ。\n",
        "\n",
        "\n",
        "はっきりとクラス分けできることを前提としたマージンをハードマージンと呼ぶ。\n",
        "一方、過学習を防ぐためにあえて誤分類をある程度許すようにしたマージンをソフトマージンと呼ぶ。"
      ]
    },
    {
      "cell_type": "markdown",
      "metadata": {
        "id": "XtosTnkreVri",
        "colab_type": "text"
      },
      "source": [
        "## ハードマージン\n",
        "\n",
        "参考： https://kenyu-life.com/2019/02/11/support_vector_machine/\n",
        "\n",
        "境界線の式を以下のように定義する。\n",
        "$w$は重み(n次元ベクトル)で、bはバイアス(スカラー)。\n",
        "$$\n",
        "w^Tx + b = 0\n",
        "$$\n",
        "\n",
        "ここで、$w^Tx + b > 0$となるxの集合を$K_1$とし、$w^Tx + b < 0$となるxの集合を$K_2$とする。\n",
        "\n",
        "さらに、$K_2$のラベルを-1ということにして、ラベルのベクトルを$t$で表せば、以下のように定義できる。\n",
        "\n",
        "$$\n",
        "t_i(w^Tx_i + b) > 0\\ (i = 1,2,\\cdots,n)\n",
        "$$\n",
        "\n",
        "### 境界線とのマージン\n",
        "\n",
        "2次元でのマージンは点と直線の距離の公式をそのまま使える。\n",
        "\n",
        "$$\n",
        "d = \\frac {|w_1x_1 + w_2x_2 + b|}{\\sqrt{w^2_1 + w^2_2}}\n",
        "$$\n",
        "\n",
        "これをn次元用に一般化すると以下のようになる(w, xはn次元ベクトル)。\n",
        "\n",
        "$$\n",
        "d = \\frac {|w^Tx + b|}{||w||}\n",
        "$$\n",
        "\n",
        "ラベルを使用した式に入れ替えると以下のようになる。\n",
        "\n",
        "$$\n",
        "\\frac {t_i(w^Tx_i + b)}{||w||} \\ge M\n",
        "$$\n",
        "\n",
        "「この式がすべてのクラスのサポートベクトルに対してマージン最大化する」と「すべてのベクトルが祖のマージンよりも距離が長い」という二つの条件を満たすことで、最適化する。\n",
        "\n",
        "ここで、両辺をMで割る。\n",
        "\n",
        "$$\n",
        "\\frac {t_i(w^Tx_i + b)}{M||w||} \\ge 1\n",
        "$$\n",
        "\n",
        "さらに、以下のように入れ替える。\n",
        "\n",
        "$$\n",
        "\\begin{eqnarray}\n",
        "\\tilde{w} &=& \\frac {w}{M||w||}\\\\\n",
        "\\tilde{b} &=& \\frac {b}{M||w||}\n",
        "\\end{eqnarray}\n",
        "$$\n",
        "\n",
        "最終的に以下のようになる。\n",
        "$$\n",
        "t_i(\\tilde{w}^Tx_i + \\tilde{b}) = 1\n",
        "$$\n",
        "\n",
        "サポートベクトルに対しては以下の統合が成立するので、これを目的関数とする。\n",
        "\n",
        "$$\n",
        "\\tilde{M} = \\frac {t_i(\\tilde{w}^Tx_i + \\tilde{b})}{||\\tilde{w}||} = \\frac {1}{||\\tilde{w}||}\n",
        "$$"
      ]
    },
    {
      "cell_type": "markdown",
      "metadata": {
        "id": "Ogr32NaLTTPd",
        "colab_type": "text"
      },
      "source": [
        "この「マージンを最大化する」という目標は「マージンの逆数を最小化する」というように書き換えられる。\n",
        "よって、以下のように変換する。\n",
        "二乗や2で割っているのは計算の簡単のため。\n",
        "\n",
        "$$\n",
        "\\min_{w,b}{\\frac {1}{2}} ||w||^2,\\ t_i(w^Tx_i + b) \\ge 1\\ (i=1,2,\\cdots,n)\n",
        "$$"
      ]
    },
    {
      "cell_type": "markdown",
      "metadata": {
        "id": "BjNz55VleLkU",
        "colab_type": "text"
      },
      "source": [
        "## ソフトマージン\n",
        "\n",
        "ソフトマージンはハードマージンよりも懸命なSVM。\n",
        "線形分離不可能なデータだと、マージン内部にサポーベクトル以外のデータが入り込んでいる。\n",
        "\n",
        "そこで、ハードマージンの式にスラッグ変数$\\xi$を導入して制約を弱める。\n",
        "\n",
        "$$\n",
        "t_i(w^Tx_i + b) \\ge 1 - \\xi\\\\\n",
        "\\xi_i = max{0, M - \\frac {t_i(w^Tx_i + b)}{||w||}}\n",
        "$$\n",
        "\n",
        "例えば、マージンMが1の時、直線からの距離0.4の位置に別のデータが入り込んでいたとする。\n",
        "この場合、以下のように制約が小さくなる。\n",
        "\n",
        "$$\n",
        "\\begin{eqnarray}\n",
        "\\xi_i &=& \\max\\{0, M - \\frac {t_i(w^Tx_i + b)}{||w||}\\}\\\\\n",
        "\\xi_i &=& \\max\\{0, (1-0.4)\\}\\\\\n",
        "\\xi_i &=& 0.6\n",
        "\\end{eqnarray}\n",
        "$$\n",
        "\n",
        "ソフトマージンの目的関数は以下のようになる。\n",
        "\n",
        "$$\n",
        "\\min\\{\\frac{1}{2}||w^T||^2 + C\\sum_{i=1}^n\\xi_i\\}\n",
        "$$\n",
        "\n",
        "制約条件は以下の通りである。\n",
        "\n",
        "$$\n",
        "t_i(w^Tx_i + b) \\ge 1 - \\xi_i, \\xi_i \\ge 0\\ (i=1,2,\\cdots,n)\n",
        "$$\n",
        "\n",
        "ここで、Cは正規化係数であり、ペナルティの度合いでもある。\n",
        "この値が大きくなるほど$\\xi$を抑制する力が強くなり、$\\xi = \\infty$ではハードマージンと同じになる。"
      ]
    },
    {
      "cell_type": "markdown",
      "metadata": {
        "id": "qv1vYe5vopyl",
        "colab_type": "text"
      },
      "source": [
        "## 線形から非線形SVMへの拡張\n",
        "\n",
        "双対問題を使用することによって、制約条件のない最適化問題への変形をする。\n",
        "\n",
        "ラグランジュの未定乗数法を使用する。\n",
        "\n",
        "$$\n",
        "L(x,a) = f(x) + \\sum_{i=1}^n a_ig_i(x)\n",
        "$$\n",
        "\n",
        "この時、制約条件は$t_i(w^Tx_i + b) \\ge 1 - \\xi_i$と$\\xi_i \\ge 0$の二つあることに注意して、ソフトマージン目的関数と制約条件をラグランジュ関数に当てはめる。\n",
        "\n",
        "$$\n",
        "L(w,b,\\xi,\\alpha,\\beta) =\\\\ \\frac{1}{2}||w||^2 + C\\sum_{i=1}^n\\xi_i - \\sum_{i=1}^n\\alpha_i\\{t_i(w^Tx_i + b) - 1 + \\xi_i\\} - \\sum_{i=1}^n\\beta_i\\xi_i\n",
        "$$\n",
        "\n",
        "これを主変数$(w,b,\\xi)$についてそれぞれ偏微分すると、以下のような式がそれぞれ得られる。\n",
        "\n",
        "$$\n",
        "\\begin{eqnarray}\n",
        "\\frac{\\partial L}{\\partial w} &=& w - \\sum_{i=1}^n \\alpha_it_ix_i = 0 &\\rightarrow& w = \\sum_{i=1}^n\\alpha_it_ix_i\\\\\n",
        "\\frac{\\partial L}{\\partial b} &=& - \\sum_{i=1}^n\\alpha_it_i = 0 &\\rightarrow& \\sum_{i=1}^n\\alpha_it_i = 0\\\\\n",
        "\\frac{\\partial L}{\\partial \\xi} &=& C - \\alpha_i - \\beta_i = 0 &\\rightarrow& C = \\alpha_i + \\beta_i\n",
        "\\end{eqnarray}\n",
        "$$\n",
        "\n",
        "この3つの式をラグランジュ関数に代入すると、以下の式に変形できる。\n",
        "\n",
        "$$\n",
        "\\max \\{\\tilde{L}(\\alpha) = \\sum_{i=1}^n\\alpha_i - \\frac{1}{2}\\sum_{i=1}^n\\sum_{i=j}^n\\alpha_i\\alpha_jt_it_jx_i^Tx_j\\}\n",
        "$$\n",
        "\n",
        "ここで$b$だけは主問題の制約を利用して導出する。\n",
        "\n",
        "$$\n",
        "b = \\frac{\\max_{t_i=-1}(wx_i) + \\min_{t_i=1}(wx_i)}{2}\n",
        "$$"
      ]
    },
    {
      "cell_type": "markdown",
      "metadata": {
        "id": "9W6Ajk0RuYg8",
        "colab_type": "text"
      },
      "source": [
        "## カーネルの導入\n",
        "\n",
        "例えば、2次元空間では線形分離できないデータでも、3次元に拡張すれば線形分離ができるようになる。\n",
        "前節の最後のラグランジュ関数に代入した目的関数の後ろの$x_i^Tx_j$を$\\phi(x)_i^T\\phi(x)_j$に変形すると、以下のようになる。\n",
        "\n",
        "$$\n",
        "\\max \\{\\tilde{L}(\\alpha) = \\sum_{i=1}^n\\alpha_i - \\frac{1}{2}\\sum_{i=1}^n\\sum_{i=j}^n\\alpha_i\\alpha_jt_it_j\\phi(x)_i^T\\phi(x)_j\\}\n",
        "$$\n",
        "\n",
        "ここで$\\phi(x)$は$\\phi(x) = (\\phi_1(x),\\phi_2(x),\\cdots,\\phi_r(x))$である。\n",
        "\n",
        "しかし、特徴空間の次元数rは元の次元数nよりも非常に大きいため、内積の計算が難しい。\n",
        "よって、この特徴ベクトル$\\phi(x)_i^T\\phi(x)_j$の内積をカーネル関数で置き換える。\n",
        "\n",
        "ここで、カーネル関数には以下の例がある。\n",
        "\n",
        "・多項式カーネル\n",
        "$$\n",
        "K(x_i,x_j) = (x^T_ix_j)^d\n",
        "$$\n",
        "・ガウスカーネル\n",
        "$$\n",
        "K(x_i,x_j) = \\exp\\{{-\\frac{||x_i - x_j||^2}{2\\sigma^2}}\\}\n",
        "$$\n",
        "・シグモイドカーネル\n",
        "$$\n",
        "K(x_i,x_j) = tanh(bx^T_ix_j + c)\n",
        "$$\n",
        "\n",
        "上記の$c, d, \\sigma$は別途人間が決定する必要があるハイパーパラメータである。\n",
        "例えば、$\\sigma$は別のクラスの2点間の距離の最も小さいものを選択する。"
      ]
    },
    {
      "cell_type": "markdown",
      "metadata": {
        "id": "QyE27m2lei1_",
        "colab_type": "text"
      },
      "source": [
        "# 実装"
      ]
    },
    {
      "cell_type": "markdown",
      "metadata": {
        "id": "CZ3JKMm9elPe",
        "colab_type": "text"
      },
      "source": [
        "## データ用意\n",
        "\n",
        "簡単な2クラス分類用のデータを乱数を使用して作成する。\n",
        "\n",
        "課題  \n",
        "`sklearn.datasets import make_blobs`を使用すれば簡単にデータが作成できる。"
      ]
    },
    {
      "cell_type": "code",
      "metadata": {
        "id": "f2LpEck_Qv6o",
        "colab_type": "code",
        "outputId": "b5cd770d-733c-4bf6-b267-faf21604f418",
        "colab": {
          "base_uri": "https://localhost:8080/",
          "height": 265
        }
      },
      "source": [
        "import numpy as np\n",
        "import pandas as pd\n",
        "import matplotlib.pyplot as plt\n",
        "import random\n",
        "\n",
        "classA_x = np.random.normal(loc=0.0, scale=1.0, size=(30, 1))\n",
        "classA_y = np.random.normal(loc=0.0, scale=1.0, size=(30, 1))\n",
        "classB_x = np.random.normal(loc=5.0, scale=1.0, size=(30, 1))\n",
        "classB_y = np.random.normal(loc=5.0, scale=1.0, size=(30, 1))\n",
        "\n",
        "classA_label = [1 for x in range(30)]\n",
        "classB_label = [0 for x in range(30)]\n",
        "\n",
        "A = np.concatenate((classA_x, classA_y), axis=1)\n",
        "B = np.concatenate((classB_x, classB_y), axis=1)\n",
        "X = np.concatenate((A, B), axis=0)\n",
        "y = np.concatenate((classA_label, classB_label), axis=0)\n",
        "\n",
        "plt.scatter(x=classA_x, y=classA_y, c='red')\n",
        "plt.scatter(x=classB_x, y=classB_y, c='blue')\n",
        "plt.show()"
      ],
      "execution_count": 2,
      "outputs": [
        {
          "output_type": "display_data",
          "data": {
            "image/png": "[encoded data removed]",
            "text/plain": [
              "<Figure size 432x288 with 1 Axes>"
            ]
          },
          "metadata": {
            "tags": [],
            "needs_background": "light"
          }
        }
      ]
    },
    {
      "cell_type": "markdown",
      "metadata": {
        "id": "PsP-IhhJytMl",
        "colab_type": "text"
      },
      "source": [
        "## 学習\n",
        "sklearnを使用する"
      ]
    },
    {
      "cell_type": "code",
      "metadata": {
        "id": "5Hiof3A4vUkl",
        "colab_type": "code",
        "colab": {
          "base_uri": "https://localhost:8080/",
          "height": 598
        },
        "outputId": "53b2de43-2849-4bce-9de9-3f29e91feb49"
      },
      "source": [
        "from sklearn.pipeline import make_pipeline\n",
        "from sklearn.preprocessing import StandardScaler\n",
        "from sklearn.svm import SVC\n",
        "\n",
        "clf = make_pipeline(StandardScaler(), SVC(gamma='auto'))\n",
        "clf.fit(X, y)\n",
        "clf.get_params()"
      ],
      "execution_count": 3,
      "outputs": [
        {
          "output_type": "execute_result",
          "data": {
            "text/plain": [
              "{'memory': None,\n",
              " 'standardscaler': StandardScaler(copy=True, with_mean=True, with_std=True),\n",
              " 'standardscaler__copy': True,\n",
              " 'standardscaler__with_mean': True,\n",
              " 'standardscaler__with_std': True,\n",
              " 'steps': [('standardscaler',\n",
              "   StandardScaler(copy=True, with_mean=True, with_std=True)),\n",
              "  ('svc',\n",
              "   SVC(C=1.0, break_ties=False, cache_size=200, class_weight=None, coef0=0.0,\n",
              "       decision_function_shape='ovr', degree=3, gamma='auto', kernel='rbf',\n",
              "       max_iter=-1, probability=False, random_state=None, shrinking=True,\n",
              "       tol=0.001, verbose=False))],\n",
              " 'svc': SVC(C=1.0, break_ties=False, cache_size=200, class_weight=None, coef0=0.0,\n",
              "     decision_function_shape='ovr', degree=3, gamma='auto', kernel='rbf',\n",
              "     max_iter=-1, probability=False, random_state=None, shrinking=True,\n",
              "     tol=0.001, verbose=False),\n",
              " 'svc__C': 1.0,\n",
              " 'svc__break_ties': False,\n",
              " 'svc__cache_size': 200,\n",
              " 'svc__class_weight': None,\n",
              " 'svc__coef0': 0.0,\n",
              " 'svc__decision_function_shape': 'ovr',\n",
              " 'svc__degree': 3,\n",
              " 'svc__gamma': 'auto',\n",
              " 'svc__kernel': 'rbf',\n",
              " 'svc__max_iter': -1,\n",
              " 'svc__probability': False,\n",
              " 'svc__random_state': None,\n",
              " 'svc__shrinking': True,\n",
              " 'svc__tol': 0.001,\n",
              " 'svc__verbose': False,\n",
              " 'verbose': False}"
            ]
          },
          "metadata": {
            "tags": []
          },
          "execution_count": 3
        }
      ]
    },
    {
      "cell_type": "markdown",
      "metadata": {
        "id": "fZOtd6edyXeX",
        "colab_type": "text"
      },
      "source": [
        "## 試しに適当な点を推測させてみる"
      ]
    },
    {
      "cell_type": "code",
      "metadata": {
        "id": "-IsoKLLuybxN",
        "colab_type": "code",
        "colab": {
          "base_uri": "https://localhost:8080/",
          "height": 53
        },
        "outputId": "31fc7a94-381c-4a45-cb2c-1d64c6442d97"
      },
      "source": [
        "print(clf.predict([[1,1]]))\n",
        "print(clf.predict([[5,5]]))"
      ],
      "execution_count": 4,
      "outputs": [
        {
          "output_type": "stream",
          "text": [
            "[1]\n",
            "[0]\n"
          ],
          "name": "stdout"
        }
      ]
    },
    {
      "cell_type": "markdown",
      "metadata": {
        "id": "6Z6o3DxYSNof",
        "colab_type": "text"
      },
      "source": [
        "## 図に描画して学習結果を見る\n",
        "\n",
        "参考: https://scikit-learn.org/stable/auto_examples/svm/plot_separating_hyperplane.html#sphx-glr-auto-examples-svm-plot-separating-hyperplane-py"
      ]
    },
    {
      "cell_type": "code",
      "metadata": {
        "id": "M39h-gXYSLzb",
        "colab_type": "code",
        "colab": {
          "base_uri": "https://localhost:8080/",
          "height": 711
        },
        "outputId": "2473d303-d1ed-4e20-fcb0-57072ca774ec"
      },
      "source": [
        "plt.scatter(X[:, 0], X[:, 1], c=y, s=30, cmap=plt.cm.Paired)\n",
        "\n",
        "ax = plt.gca()\n",
        "xlim = ax.get_xlim()\n",
        "ylim = ax.get_ylim()\n",
        "\n",
        "xx = np.linspace(xlim[0], xlim[1], 30)\n",
        "yy = np.linspace(ylim[0], ylim[1], 30)\n",
        "YY, XX = np.meshgrid(yy, xx)\n",
        "xy = np.vstack([xx.ravel(), YY.ravel()]).T\n",
        "Z = clf.decision_function(xy).reshape(XX.shape)\n",
        "\n",
        "ax.contour(XX, YY, Z, colors='k', levels=[-1, 0, 1], alpha=0.5, linestyles=['--', '-', '--'])\n",
        "ax.scatter(clf.support_vectors_[:, 0], clf.support_vectors_[:, 1], s=100, linewidth=1, facecolors='none', edgecolors='k')\n",
        "plt.show()"
      ],
      "execution_count": 6,
      "outputs": [
        {
          "output_type": "error",
          "ename": "ValueError",
          "evalue": "ignored",
          "traceback": [
            "\u001b[0;31m---------------------------------------------------------------------------\u001b[0m",
            "\u001b[0;31mValueError\u001b[0m                                Traceback (most recent call last)",
            "\u001b[0;32m<ipython-input-6-2568ddfdb9e9>\u001b[0m in \u001b[0;36m<module>\u001b[0;34m()\u001b[0m\n\u001b[1;32m      7\u001b[0m \u001b[0myy\u001b[0m \u001b[0;34m=\u001b[0m \u001b[0mnp\u001b[0m\u001b[0;34m.\u001b[0m\u001b[0mlinspace\u001b[0m\u001b[0;34m(\u001b[0m\u001b[0mylim\u001b[0m\u001b[0;34m[\u001b[0m\u001b[0;36m0\u001b[0m\u001b[0;34m]\u001b[0m\u001b[0;34m,\u001b[0m \u001b[0mylim\u001b[0m\u001b[0;34m[\u001b[0m\u001b[0;36m1\u001b[0m\u001b[0;34m]\u001b[0m\u001b[0;34m,\u001b[0m \u001b[0;36m30\u001b[0m\u001b[0;34m)\u001b[0m\u001b[0;34m\u001b[0m\u001b[0;34m\u001b[0m\u001b[0m\n\u001b[1;32m      8\u001b[0m \u001b[0mYY\u001b[0m\u001b[0;34m,\u001b[0m \u001b[0mXX\u001b[0m \u001b[0;34m=\u001b[0m \u001b[0mnp\u001b[0m\u001b[0;34m.\u001b[0m\u001b[0mmeshgrid\u001b[0m\u001b[0;34m(\u001b[0m\u001b[0myy\u001b[0m\u001b[0;34m,\u001b[0m \u001b[0mxx\u001b[0m\u001b[0;34m)\u001b[0m\u001b[0;34m\u001b[0m\u001b[0;34m\u001b[0m\u001b[0m\n\u001b[0;32m----> 9\u001b[0;31m \u001b[0mxy\u001b[0m \u001b[0;34m=\u001b[0m \u001b[0mnp\u001b[0m\u001b[0;34m.\u001b[0m\u001b[0mvstack\u001b[0m\u001b[0;34m(\u001b[0m\u001b[0;34m[\u001b[0m\u001b[0mxx\u001b[0m\u001b[0;34m.\u001b[0m\u001b[0mravel\u001b[0m\u001b[0;34m(\u001b[0m\u001b[0;34m)\u001b[0m\u001b[0;34m,\u001b[0m \u001b[0mYY\u001b[0m\u001b[0;34m.\u001b[0m\u001b[0mravel\u001b[0m\u001b[0;34m(\u001b[0m\u001b[0;34m)\u001b[0m\u001b[0;34m]\u001b[0m\u001b[0;34m)\u001b[0m\u001b[0;34m.\u001b[0m\u001b[0mT\u001b[0m\u001b[0;34m\u001b[0m\u001b[0;34m\u001b[0m\u001b[0m\n\u001b[0m\u001b[1;32m     10\u001b[0m \u001b[0mZ\u001b[0m \u001b[0;34m=\u001b[0m \u001b[0mclf\u001b[0m\u001b[0;34m.\u001b[0m\u001b[0mdecision_function\u001b[0m\u001b[0;34m(\u001b[0m\u001b[0mxy\u001b[0m\u001b[0;34m)\u001b[0m\u001b[0;34m.\u001b[0m\u001b[0mreshape\u001b[0m\u001b[0;34m(\u001b[0m\u001b[0mXX\u001b[0m\u001b[0;34m.\u001b[0m\u001b[0mshape\u001b[0m\u001b[0;34m)\u001b[0m\u001b[0;34m\u001b[0m\u001b[0;34m\u001b[0m\u001b[0m\n\u001b[1;32m     11\u001b[0m \u001b[0;34m\u001b[0m\u001b[0m\n",
            "\u001b[0;32m<__array_function__ internals>\u001b[0m in \u001b[0;36mvstack\u001b[0;34m(*args, **kwargs)\u001b[0m\n",
            "\u001b[0;32m/usr/local/lib/python3.6/dist-packages/numpy/core/shape_base.py\u001b[0m in \u001b[0;36mvstack\u001b[0;34m(tup)\u001b[0m\n\u001b[1;32m    281\u001b[0m     \u001b[0;32mif\u001b[0m \u001b[0;32mnot\u001b[0m \u001b[0misinstance\u001b[0m\u001b[0;34m(\u001b[0m\u001b[0marrs\u001b[0m\u001b[0;34m,\u001b[0m \u001b[0mlist\u001b[0m\u001b[0;34m)\u001b[0m\u001b[0;34m:\u001b[0m\u001b[0;34m\u001b[0m\u001b[0;34m\u001b[0m\u001b[0m\n\u001b[1;32m    282\u001b[0m         \u001b[0marrs\u001b[0m \u001b[0;34m=\u001b[0m \u001b[0;34m[\u001b[0m\u001b[0marrs\u001b[0m\u001b[0;34m]\u001b[0m\u001b[0;34m\u001b[0m\u001b[0;34m\u001b[0m\u001b[0m\n\u001b[0;32m--> 283\u001b[0;31m     \u001b[0;32mreturn\u001b[0m \u001b[0m_nx\u001b[0m\u001b[0;34m.\u001b[0m\u001b[0mconcatenate\u001b[0m\u001b[0;34m(\u001b[0m\u001b[0marrs\u001b[0m\u001b[0;34m,\u001b[0m \u001b[0;36m0\u001b[0m\u001b[0;34m)\u001b[0m\u001b[0;34m\u001b[0m\u001b[0;34m\u001b[0m\u001b[0m\n\u001b[0m\u001b[1;32m    284\u001b[0m \u001b[0;34m\u001b[0m\u001b[0m\n\u001b[1;32m    285\u001b[0m \u001b[0;34m\u001b[0m\u001b[0m\n",
            "\u001b[0;32m<__array_function__ internals>\u001b[0m in \u001b[0;36mconcatenate\u001b[0;34m(*args, **kwargs)\u001b[0m\n",
            "\u001b[0;31mValueError\u001b[0m: all the input array dimensions for the concatenation axis must match exactly, but along dimension 1, the array at index 0 has size 30 and the array at index 1 has size 900"
          ]
        },
        {
          "output_type": "display_data",
          "data": {
            "image/png": "[encoded data removed]",
            "text/plain": [
              "<Figure size 432x288 with 1 Axes>"
            ]
          },
          "metadata": {
            "tags": [],
            "needs_background": "light"
          }
        }
      ]
    }
  ]
}