{
  "nbformat": 4,
  "nbformat_minor": 0,
  "metadata": {
    "colab": {
      "name": "統計分析を数式で理解する",
      "provenance": [],
      "toc_visible": true,
      "authorship_tag": "ABX9TyPScR07E6l28C22mVkbkrJu",
      "include_colab_link": true
    },
    "kernelspec": {
      "name": "python3",
      "display_name": "Python 3"
    }
  },
  "cells": [
    {
      "cell_type": "markdown",
      "metadata": {
        "id": "view-in-github",
        "colab_type": "text"
      },
      "source": [
        "<a href=\"https://colab.research.google.com/github/gitboku/statistics-practice/blob/master/%E7%B5%B1%E8%A8%88%E5%88%86%E6%9E%90%E3%82%92%E6%95%B0%E5%BC%8F%E3%81%A7%E7%90%86%E8%A7%A3%E3%81%99%E3%82%8B.ipynb\" target=\"_parent\"><img src=\"https://colab.research.google.com/assets/colab-badge.svg\" alt=\"Open In Colab\"/></a>"
      ]
    },
    {
      "cell_type": "markdown",
      "metadata": {
        "id": "pNLseUz_vDQj",
        "colab_type": "text"
      },
      "source": [
        "# 序文"
      ]
    },
    {
      "cell_type": "markdown",
      "metadata": {
        "id": "HiHh1q_iuCLI",
        "colab_type": "text"
      },
      "source": [
        "## ノートの目的"
      ]
    },
    {
      "cell_type": "markdown",
      "metadata": {
        "id": "7vdje8tst-jJ",
        "colab_type": "text"
      },
      "source": [
        "データサイエンティストになるには基本的な線形代数や統計に関する数学的知識が必要不可欠である。\n",
        "\n",
        "また、TensorFlowやscikit-learnなどを十分に使いこなすには数式を多少なりとも理解しておく必要があるが、数式を実装に落とし込む形で学ぶことにより確実に自らの血肉にすることができる。\n",
        "\n",
        "よって、代表的と思われるいくつかの統計分析を数式で書いていく。\n"
      ]
    },
    {
      "cell_type": "markdown",
      "metadata": {
        "id": "dkJvf_UGt9lW",
        "colab_type": "text"
      },
      "source": [
        "## 対象となる数式"
      ]
    },
    {
      "cell_type": "markdown",
      "metadata": {
        "id": "nNc7pChxuWHg",
        "colab_type": "text"
      },
      "source": [
        "以下のものを対象としていく。\n",
        "\n",
        "\n",
        "* 単回帰分析\n",
        "* 重回帰分析\n",
        "* ロジスティック回帰分析\n",
        "* サポートベクターマシン\n",
        "* ニューラルネットワーク\n",
        "\n"
      ]
    },
    {
      "cell_type": "markdown",
      "metadata": {
        "id": "VlpdDV7Gu_ba",
        "colab_type": "text"
      },
      "source": [
        "# 本編"
      ]
    },
    {
      "cell_type": "markdown",
      "metadata": {
        "id": "lQsbNgwsvNMu",
        "colab_type": "text"
      },
      "source": [
        "## 単回帰分析"
      ]
    },
    {
      "cell_type": "code",
      "metadata": {
        "id": "yhZpoAsTt8N2",
        "colab_type": "code",
        "colab": {}
      },
      "source": [
        ""
      ],
      "execution_count": 0,
      "outputs": []
    }
  ]
}