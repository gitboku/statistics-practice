{
  "nbformat": 4,
  "nbformat_minor": 0,
  "metadata": {
    "colab": {
      "name": "統計分析を数式で理解する",
      "provenance": [],
      "collapsed_sections": [],
      "toc_visible": true,
      "authorship_tag": "ABX9TyOBkOp1iRwsAUTSNO7eqfS7",
      "include_colab_link": true
    },
    "kernelspec": {
      "name": "python3",
      "display_name": "Python 3"
    }
  },
  "cells": [
    {
      "cell_type": "markdown",
      "metadata": {
        "id": "view-in-github",
        "colab_type": "text"
      },
      "source": [
        "<a href=\"https://colab.research.google.com/github/gitboku/statistics-practice/blob/master/%E7%B5%B1%E8%A8%88%E5%88%86%E6%9E%90%E3%82%92%E6%95%B0%E5%BC%8F%E3%81%A7%E7%90%86%E8%A7%A3%E3%81%99%E3%82%8B.ipynb\" target=\"_parent\"><img src=\"https://colab.research.google.com/assets/colab-badge.svg\" alt=\"Open In Colab\"/></a>"
      ]
    },
    {
      "cell_type": "markdown",
      "metadata": {
        "id": "pNLseUz_vDQj",
        "colab_type": "text"
      },
      "source": [
        "# 序文"
      ]
    },
    {
      "cell_type": "markdown",
      "metadata": {
        "id": "HiHh1q_iuCLI",
        "colab_type": "text"
      },
      "source": [
        "## ノートの目的"
      ]
    },
    {
      "cell_type": "markdown",
      "metadata": {
        "id": "7vdje8tst-jJ",
        "colab_type": "text"
      },
      "source": [
        "データサイエンティストになるには基本的な線形代数や統計に関する数学的知識が必要不可欠である。\n",
        "\n",
        "また、TensorFlowやscikit-learnなどを十分に使いこなすには数式を多少なりとも理解しておく必要があるが、数式を実装に落とし込む形で学ぶことにより確実に自らの血肉にすることができる。\n",
        "\n",
        "よって、代表的と思われるいくつかの統計分析を数式で書いていく。\n"
      ]
    },
    {
      "cell_type": "markdown",
      "metadata": {
        "id": "h5S7Ycxa0r2L",
        "colab_type": "text"
      },
      "source": [
        "なお、自分用のノートであるため、初めから知ってることを解説することはしない。"
      ]
    },
    {
      "cell_type": "markdown",
      "metadata": {
        "id": "dkJvf_UGt9lW",
        "colab_type": "text"
      },
      "source": [
        "## 対象となる数式"
      ]
    },
    {
      "cell_type": "markdown",
      "metadata": {
        "id": "nNc7pChxuWHg",
        "colab_type": "text"
      },
      "source": [
        "以下のものを対象としていく。\n",
        "\n",
        "\n",
        "* 単回帰分析\n",
        "* 重回帰分析\n",
        "* ロジスティック回帰分析\n",
        "* サポートベクターマシン\n",
        "* ニューラルネットワーク\n",
        "\n"
      ]
    },
    {
      "cell_type": "markdown",
      "metadata": {
        "id": "VlpdDV7Gu_ba",
        "colab_type": "text"
      },
      "source": [
        "# 本編"
      ]
    },
    {
      "cell_type": "markdown",
      "metadata": {
        "id": "lQsbNgwsvNMu",
        "colab_type": "text"
      },
      "source": [
        "## 単回帰分析"
      ]
    },
    {
      "cell_type": "markdown",
      "metadata": {
        "id": "ZhkYNrMj07BU",
        "colab_type": "text"
      },
      "source": [
        "### 単回帰分析とは何か"
      ]
    },
    {
      "cell_type": "markdown",
      "metadata": {
        "id": "GTFSy-fEzh6v",
        "colab_type": "text"
      },
      "source": [
        "単回帰分析では目的変数に対して一つの説明変数を用いる。\n",
        "\n",
        "例えば、とある人の体重を伸長から予測するとき、慎重を目的変数、体重を説明変数とする。  \n",
        "伸長をy、体重をxとすると、以下のようにあらわせる。\n",
        "\n",
        "$y = ax + b$\n",
        "\n",
        "このパラメータa, bを予測するのが単回帰分析。  \n",
        "\n",
        "なお、このx以外にもいくつもの説明変数がある場合は重回帰分析となる。\n",
        "\n"
      ]
    },
    {
      "cell_type": "markdown",
      "metadata": {
        "id": "6ASiH19y1BKH",
        "colab_type": "text"
      },
      "source": [
        "### どのようにしてパラメータを求めるのか（数式）"
      ]
    },
    {
      "cell_type": "markdown",
      "metadata": {
        "id": "EdoRzRPt15jB",
        "colab_type": "text"
      },
      "source": [
        "最小二乗法を用いて求める（最尤法を使用してもいい）\n",
        "\n",
        "$S(a, b) = \\sum_{i=1}^n (y_i - ax_i - b)^2$\n",
        "\n",
        "この$S(a, b)$のことを残差平方和という。\n",
        "\n",
        "最小二乗法では予測と実値のズレが最小になるためのa, bを求める。  \n",
        "なので残差平方和をa, bについて偏微分し、それが0となるa, bを求める。\n",
        "\n",
        "---\n",
        "$$\n",
        "\\begin{eqnarray}\n",
        "S(a, b) &=& \\sum_{i=1}^n (y_i - ax_i - b)^2\\\\\n",
        "&=& \\sum_{i=1}^n (y_i - ax_i - b)(y_i - ax_i - b)\\\\\n",
        "&=& \\sum_{i=1}^n (y_i^2 - ax_iy_i - by_i - ax_iy_i + a^2x_i^2 + abx_i - by_i + abx_i + b^2)\\\\\n",
        "&=& \\sum_{i=1}^n (a^2x^2 - 2ax_iy_i + 2abx_i + y_i^2 - 2by_i + b^2)\\\\\n",
        "&=& 0\n",
        "\\end{eqnarray}\n",
        "$$\n",
        "\n",
        "---\n",
        "これをaについて偏微分する\n",
        "\n",
        "$\\sum_{i=1}^n (2ax_i^2 - 2x_iy_i + 2bx_i) = 0$\n",
        "\n",
        "展開して2で割って整理する\n",
        "\n",
        "$a\\sum_{i=1}^n x_i^2 - \\sum_{i=1}^n x_iy_i + b\\sum_{i=1}^n x_i = 0$\n",
        "\n",
        "これを①とする\n",
        "\n",
        "---\n",
        "次にbについて偏微分する\n",
        "\n",
        "$\\sum_{i=1}^n (2ax_i - 2y_i + 2b) = 0$\n",
        "\n",
        "展開して2で割って整理する\n",
        "\n",
        "$a\\sum_{i=1}^n x_i - \\sum_{i=1}^n y_i + nb = 0$\n",
        "\n",
        "これを②とする\n",
        "\n",
        "---\n",
        "上記の①と②を連立方程式で解くと、以下のa, bを得る\n",
        "\n",
        "$$\n",
        "\\begin{eqnarray}\n",
        "a &=& \\frac {Cov(x, y)} {SD(x)^2}\\\\\n",
        "b &=& \\overline{y} - a\\overline{x}\n",
        "\\end{eqnarray} \n",
        "$$\n",
        "\n",
        "なお、上記の$Cov*x, y)$はxとyの共分散、$\\overline{x}$はxの平均を、SD(x)はxの標準偏差を指す。"
      ]
    },
    {
      "cell_type": "markdown",
      "metadata": {
        "id": "SiM_A31eOKaV",
        "colab_type": "text"
      },
      "source": [
        ""
      ]
    }
  ]
}